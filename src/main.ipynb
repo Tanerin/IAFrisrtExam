{
 "cells": [
  {
   "cell_type": "markdown",
   "source": [
    "<h1><Center>Examen Intersemestral</Center></h1>"
   ],
   "metadata": {}
  },
  {
   "cell_type": "markdown",
   "source": [
    "<h2><left>Data exploration</left></h2>"
   ],
   "metadata": {}
  },
  {
   "cell_type": "markdown",
   "source": [
    "<h3>Importando librerias</h3>"
   ],
   "metadata": {}
  },
  {
   "cell_type": "code",
   "execution_count": 4,
   "source": [
    "import numpy as np\n",
    "import pandas as pd\n",
    "import matplotlib.pyplot as plt\n",
    "import random\n",
    "import plotly.io as pio"
   ],
   "outputs": [],
   "metadata": {}
  },
  {
   "cell_type": "markdown",
   "source": [
    "<p>Leyendo los datos </p>"
   ],
   "metadata": {}
  },
  {
   "cell_type": "code",
   "execution_count": 5,
   "source": [
    "train_data=pd.read_csv('../Data/train.csv')\n",
    "test_data=pd.read_csv('../Data/test.csv')\n",
    "#train_data.head()\n",
    "#train_data.describe()\n",
    "#train_data.info()\n",
    "train_data_nums = train_data.select_dtypes(include=['int'])\n",
    "#despues de analizar el info faltan valores en los valores numericos con float\n",
    "train_data_values_MSZoning = train_data['MSZoning'].values.tolist()\n",
    "train_data_values_Neighborhood = train_data['Neighborhood'].values.tolist()\n",
    "#Se anaden las dos columnas de texto\n",
    "train_data_nums.insert(loc=len(train_data_nums.columns),column='MSZoning', value=train_data_values_MSZoning)\n",
    "train_data_nums.insert(loc=len(train_data_nums.columns),column='Neighborhood', value= train_data_values_Neighborhood)\n",
    "#Cambiamos de variable para no confundirnos\n",
    "train_data_final = train_data_nums\n",
    "train_data_final.info()"
   ],
   "outputs": [
    {
     "output_type": "stream",
     "name": "stdout",
     "text": [
      "<class 'pandas.core.frame.DataFrame'>\n",
      "RangeIndex: 1460 entries, 0 to 1459\n",
      "Data columns (total 37 columns):\n",
      " #   Column         Non-Null Count  Dtype \n",
      "---  ------         --------------  ----- \n",
      " 0   Id             1460 non-null   int64 \n",
      " 1   MSSubClass     1460 non-null   int64 \n",
      " 2   LotArea        1460 non-null   int64 \n",
      " 3   OverallQual    1460 non-null   int64 \n",
      " 4   OverallCond    1460 non-null   int64 \n",
      " 5   YearBuilt      1460 non-null   int64 \n",
      " 6   YearRemodAdd   1460 non-null   int64 \n",
      " 7   BsmtFinSF1     1460 non-null   int64 \n",
      " 8   BsmtFinSF2     1460 non-null   int64 \n",
      " 9   BsmtUnfSF      1460 non-null   int64 \n",
      " 10  TotalBsmtSF    1460 non-null   int64 \n",
      " 11  1stFlrSF       1460 non-null   int64 \n",
      " 12  2ndFlrSF       1460 non-null   int64 \n",
      " 13  LowQualFinSF   1460 non-null   int64 \n",
      " 14  GrLivArea      1460 non-null   int64 \n",
      " 15  BsmtFullBath   1460 non-null   int64 \n",
      " 16  BsmtHalfBath   1460 non-null   int64 \n",
      " 17  FullBath       1460 non-null   int64 \n",
      " 18  HalfBath       1460 non-null   int64 \n",
      " 19  BedroomAbvGr   1460 non-null   int64 \n",
      " 20  KitchenAbvGr   1460 non-null   int64 \n",
      " 21  TotRmsAbvGrd   1460 non-null   int64 \n",
      " 22  Fireplaces     1460 non-null   int64 \n",
      " 23  GarageCars     1460 non-null   int64 \n",
      " 24  GarageArea     1460 non-null   int64 \n",
      " 25  WoodDeckSF     1460 non-null   int64 \n",
      " 26  OpenPorchSF    1460 non-null   int64 \n",
      " 27  EnclosedPorch  1460 non-null   int64 \n",
      " 28  3SsnPorch      1460 non-null   int64 \n",
      " 29  ScreenPorch    1460 non-null   int64 \n",
      " 30  PoolArea       1460 non-null   int64 \n",
      " 31  MiscVal        1460 non-null   int64 \n",
      " 32  MoSold         1460 non-null   int64 \n",
      " 33  YrSold         1460 non-null   int64 \n",
      " 34  SalePrice      1460 non-null   int64 \n",
      " 35  MSZoning       1460 non-null   object\n",
      " 36  Neighborhood   1460 non-null   object\n",
      "dtypes: int64(35), object(2)\n",
      "memory usage: 422.2+ KB\n"
     ]
    }
   ],
   "metadata": {}
  },
  {
   "cell_type": "markdown",
   "source": [
    "<h2>Data Visualization</h2>"
   ],
   "metadata": {}
  },
  {
   "cell_type": "markdown",
   "source": [
    "<h3>Extract the values from the dataframe</h3>"
   ],
   "metadata": {}
  },
  {
   "cell_type": "code",
   "execution_count": 23,
   "source": [
    "MSSubClass_train_list = train_data_final['MSSubClass'].values\n",
    "LotArea_train_list = train_data_final['LotArea'].values\n",
    "OverallQual_train_list = train_data_final['OverallQual'].values\n",
    "OverallCond_train_list = train_data_final['OverallCond'].values\n",
    "YearBuilt_train_list = train_data_final['YearBuilt'].values\n",
    "YearRemodAdd_train_list = train_data_final['YearRemodAdd'].values\n",
    "BsmtFinSF1_train_list = train_data_final['BsmtFinSF1'].values\n",
    "BsmtFinSF2_train_list = train_data_final['BsmtFinSF2'].values\n",
    "BsmtUnfSF_train_list = train_data_final['BsmtUnfSF'].values\n",
    "TotalBsmtSF_train_list = train_data_final['TotalBsmtSF'].values\n",
    "FirstFlrSF_train_list = train_data_final['1stFlrSF'].values\n",
    "SecondFlrSF_train_list = train_data_final['2ndFlrSF'].values\n",
    "LowQualFinSF_train_list = train_data_final['LowQualFinSF'].values\n",
    "GrLivArea_train_list = train_data_final['GrLivArea'].values\n",
    "BsmtFullBath_train_list = train_data_final['BsmtFullBath'].values\n",
    "\n"
   ],
   "outputs": [
    {
     "output_type": "error",
     "ename": "TypeError",
     "evalue": "'DataFrame' object is not callable",
     "traceback": [
      "\u001b[0;31m---------------------------------------------------------------------------\u001b[0m",
      "\u001b[0;31mTypeError\u001b[0m                                 Traceback (most recent call last)",
      "\u001b[0;32m/tmp/ipykernel_3372/1077930829.py\u001b[0m in \u001b[0;36m<module>\u001b[0;34m\u001b[0m\n\u001b[0;32m----> 1\u001b[0;31m \u001b[0mMSSubClass_train_list\u001b[0m \u001b[0;34m=\u001b[0m \u001b[0mtrain_data_final\u001b[0m\u001b[0;34m(\u001b[0m\u001b[0;36m1\u001b[0m\u001b[0;34m)\u001b[0m\u001b[0;34m.\u001b[0m\u001b[0mvalues\u001b[0m\u001b[0;34m\u001b[0m\u001b[0;34m\u001b[0m\u001b[0m\n\u001b[0m\u001b[1;32m      2\u001b[0m \u001b[0mLotArea_train_list\u001b[0m \u001b[0;34m=\u001b[0m \u001b[0mtrain_data_final\u001b[0m\u001b[0;34m[\u001b[0m\u001b[0;34m'LotArea'\u001b[0m\u001b[0;34m]\u001b[0m\u001b[0;34m.\u001b[0m\u001b[0mvalues\u001b[0m\u001b[0;34m\u001b[0m\u001b[0;34m\u001b[0m\u001b[0m\n\u001b[1;32m      3\u001b[0m \u001b[0mOverallQual_train_list\u001b[0m \u001b[0;34m=\u001b[0m \u001b[0mtrain_data_final\u001b[0m\u001b[0;34m[\u001b[0m\u001b[0;34m'OverallQual'\u001b[0m\u001b[0;34m]\u001b[0m\u001b[0;34m.\u001b[0m\u001b[0mvalues\u001b[0m\u001b[0;34m\u001b[0m\u001b[0;34m\u001b[0m\u001b[0m\n\u001b[1;32m      4\u001b[0m \u001b[0mOverallCond_train_list\u001b[0m \u001b[0;34m=\u001b[0m \u001b[0mtrain_data_final\u001b[0m\u001b[0;34m[\u001b[0m\u001b[0;34m'OverallCond'\u001b[0m\u001b[0;34m]\u001b[0m\u001b[0;34m.\u001b[0m\u001b[0mvalues\u001b[0m\u001b[0;34m\u001b[0m\u001b[0;34m\u001b[0m\u001b[0m\n\u001b[1;32m      5\u001b[0m \u001b[0mYearBuilt_train_list\u001b[0m \u001b[0;34m=\u001b[0m \u001b[0mtrain_data_final\u001b[0m\u001b[0;34m[\u001b[0m\u001b[0;34m'YearBuilt'\u001b[0m\u001b[0;34m]\u001b[0m\u001b[0;34m.\u001b[0m\u001b[0mvalues\u001b[0m\u001b[0;34m\u001b[0m\u001b[0;34m\u001b[0m\u001b[0m\n",
      "\u001b[0;31mTypeError\u001b[0m: 'DataFrame' object is not callable"
     ]
    }
   ],
   "metadata": {}
  }
 ],
 "metadata": {
  "orig_nbformat": 4,
  "language_info": {
   "name": "python",
   "version": "3.7.11",
   "mimetype": "text/x-python",
   "codemirror_mode": {
    "name": "ipython",
    "version": 3
   },
   "pygments_lexer": "ipython3",
   "nbconvert_exporter": "python",
   "file_extension": ".py"
  },
  "kernelspec": {
   "name": "python3",
   "display_name": "Python 3.7.11 64-bit ('ia37': conda)"
  },
  "interpreter": {
   "hash": "8b7d640b029c64b1b4282210f6c94b4dc905989611c5f0932aa2fc2c9c3e334a"
  }
 },
 "nbformat": 4,
 "nbformat_minor": 2
}